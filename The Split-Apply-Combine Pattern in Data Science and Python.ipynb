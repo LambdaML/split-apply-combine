{
 "cells": [
  {
   "cell_type": "markdown",
   "metadata": {
    "slideshow": {
     "slide_type": "slide"
    }
   },
   "source": [
    "# The Split-Apply-Combine Pattern in Data Science and Python\n",
    "\n",
    "## Tobias Brandt\n",
    "\n",
    "<img src=\"img/argon_logo.png\" align=left width=200>\n",
    "\n",
    "<!-- <img src=\"http://www.argonassetmanagement.co.za/css/img/logo.png\" align=left width=200> -->"
   ]
  },
  {
   "cell_type": "markdown",
   "metadata": {
    "slideshow": {
     "slide_type": "subslide"
    }
   },
   "source": [
    "# Argon Asset Management\n",
    "\n",
    "PUT OVERVIEW SLIDE HERE"
   ]
  },
  {
   "cell_type": "markdown",
   "metadata": {
    "slideshow": {
     "slide_type": "subslide"
    }
   },
   "source": [
    "### Projected number of talk attendees\n",
    "\n",
    "  * With \"Data Science\" in title \n",
    "      * 10 +/- 5\n",
    "  * vs without \"Data Science\" in title\n",
    "      * 20 +/- 5\n",
    "  * insert xkcd style chart"
   ]
  },
  {
   "cell_type": "markdown",
   "metadata": {
    "slideshow": {
     "slide_type": "subslide"
    }
   },
   "source": [
    "### Google trends chart\n",
    "\n",
    "![\"data science\" vs \"data analysis\"](img/data_science_vs_data_analysis.png)"
   ]
  },
  {
   "cell_type": "markdown",
   "metadata": {
    "slideshow": {
     "slide_type": "subslide"
    }
   },
   "source": [
    "## Data Science\n",
    "\n",
    "According to https://en.wikipedia.org/wiki/Data_science:\n",
    "\n",
    "In November 1997, C.F. Jeff Wu gave the inaugural lecture entitled **\"Statistics = Data Science?\"**[5] for his appointment to the H. C. Carver Professorship at the University of Michigan.[6] In this lecture, he characterized statistical work as a trilogy of **data collection**, **data modeling and analysis**, and **decision making**. In his conclusion, he initiated the modern, non-computer science, usage of the term \"data science\" and advocated that statistics be renamed data science and statisticians data scientists.[5]"
   ]
  },
  {
   "cell_type": "markdown",
   "metadata": {
    "slideshow": {
     "slide_type": "slide"
    }
   },
   "source": [
    "## The Github Archive Dataset\n",
    "\n",
    "https://www.githubarchive.org/\n",
    "\n",
    "Open-source developers all over the world are working on millions of projects: writing code & documentation, fixing & submitting bugs, and so forth. GitHub Archive is a project to record the public GitHub timeline, archive it, and make it easily accessible for further analysis.\n",
    "\n",
    "GitHub provides 20+ event types, which range from new commits and fork events, to opening new tickets, commenting, and adding members to a project. These events are aggregated into hourly archives, which you can access with any HTTP client:\n",
    "\n",
    "  * gzipped json files\n",
    "  * yyyy-mm-dd-HH.json.gz"
   ]
  },
  {
   "cell_type": "code",
   "execution_count": 1,
   "metadata": {
    "collapsed": false,
    "slideshow": {
     "slide_type": "subslide"
    }
   },
   "outputs": [],
   "source": [
    "import os\n",
    "import gzip\n",
    "import json\n",
    "\n",
    "directory = 'data/github_archive'\n",
    "filename = '2015-01-29-16.json.gz'\n",
    "\n",
    "path = os.path.join(directory, filename)\n",
    "with gzip.open(path) as f:\n",
    "        events = [json.loads(line) for line in f]\n",
    "#print json.dumps(events[0], indent=4)"
   ]
  },
  {
   "cell_type": "markdown",
   "metadata": {
    "slideshow": {
     "slide_type": "fragment"
    }
   },
   "source": [
    "<pre>\n",
    "{\n",
    "    <b>\"payload\": {</b>\n",
    "        \"master_branch\": \"master\", \n",
    "        \"ref_type\": \"branch\", \n",
    "        \"ref\": \"disable_dropdown\", \n",
    "        \"description\": \"OOI UI Source Code\", \n",
    "        \"pusher_type\": \"user\"\n",
    "    }, \n",
    "    <b>\"created_at\": \"2015-01-29T16:00:00Z\", </b>\n",
    "    \"actor\": {\n",
    "        \"url\": \"https://api.github.com/users/birdage\", \n",
    "        <b>\"login\": \"birdage\", </b>\n",
    "        \"avatar_url\": \"https://avatars.githubusercontent.com/u/547228?\", \n",
    "        \"id\": 547228, \n",
    "        \"gravatar_id\": \"\"\n",
    "    }, \n",
    "    \"id\": \"2545235518\", \n",
    "    \"repo\": {\n",
    "        \"url\": \"https://api.github.com/repos/birdage/ooi-ui\", \n",
    "        \"id\": 23796192, \n",
    "        <b>\"name\": \"birdage/ooi-ui\"</b>\n",
    "    }, \n",
    "    <b>\"type\": \"CreateEvent\", </b>\n",
    "    \"public\": true\n",
    "}\n",
    "</pre>"
   ]
  },
  {
   "cell_type": "markdown",
   "metadata": {
    "slideshow": {
     "slide_type": "subslide"
    }
   },
   "source": [
    "### Typical Data Science Questions\n",
    "\n",
    "  * How many Github repositories are created per hour/day/month?\n",
    "  * To which repositories are the most commits are pushed per hour/day/month?\n",
    "  * Which projects receive the most pull requests?\n",
    "  * What are the most popular languages on Github?"
   ]
  },
  {
   "cell_type": "markdown",
   "metadata": {
    "slideshow": {
     "slide_type": "slide"
    }
   },
   "source": [
    "## Example 1 - Number of Repositories Created"
   ]
  },
  {
   "cell_type": "code",
   "execution_count": 2,
   "metadata": {
    "collapsed": true,
    "slideshow": {
     "slide_type": "fragment"
    }
   },
   "outputs": [],
   "source": [
    "new_repo_count = 0\n",
    "for event in events:\n",
    "    new_repo_count += 1 if event['type']==\"CreateEvent\" else 0"
   ]
  },
  {
   "cell_type": "code",
   "execution_count": 3,
   "metadata": {
    "collapsed": false,
    "slideshow": {
     "slide_type": "fragment"
    }
   },
   "outputs": [
    {
     "name": "stdout",
     "output_type": "stream",
     "text": [
      "3516\n"
     ]
    }
   ],
   "source": [
    "print new_repo_count"
   ]
  },
  {
   "cell_type": "code",
   "execution_count": 4,
   "metadata": {
    "collapsed": true,
    "slideshow": {
     "slide_type": "fragment"
    }
   },
   "outputs": [],
   "source": [
    "event_counts = {}\n",
    "for event in events:\n",
    "    event_counts[event['type']] = event_counts.get(event['type'], 0) + 1"
   ]
  },
  {
   "cell_type": "code",
   "execution_count": 5,
   "metadata": {
    "collapsed": false,
    "scrolled": false,
    "slideshow": {
     "slide_type": "fragment"
    }
   },
   "outputs": [
    {
     "name": "stdout",
     "output_type": "stream",
     "text": [
      "PushEvent                                15443\n",
      "IssueCommentEvent                        3718\n",
      "CreateEvent                              3516\n",
      "WatchEvent                               2682\n",
      "PullRequestEvent                         1891\n"
     ]
    }
   ],
   "source": [
    "def print_top_items(dct, N=5):\n",
    "    for key, value in sorted(dct.iteritems(), key=lambda t: t[1], reverse=True)[:N]:\n",
    "        print \"{:40} {}\".format(key, value)\n",
    "\n",
    "print_top_items(event_counts)"
   ]
  },
  {
   "cell_type": "markdown",
   "metadata": {
    "slideshow": {
     "slide_type": "subslide"
    }
   },
   "source": [
    "## Example 2 - Number of commits pushed per repository"
   ]
  },
  {
   "cell_type": "code",
   "execution_count": 6,
   "metadata": {
    "collapsed": true,
    "slideshow": {
     "slide_type": "fragment"
    }
   },
   "outputs": [],
   "source": [
    "pushed_commits = {}\n",
    "for event in events:\n",
    "    if event['type']==\"PushEvent\":\n",
    "        repo = event['repo']['name']\n",
    "        commits = event['payload']['size']\n",
    "        pushed_commits[repo] = pushed_commits.get(repo, 0) + commits "
   ]
  },
  {
   "cell_type": "code",
   "execution_count": 7,
   "metadata": {
    "collapsed": false,
    "slideshow": {
     "slide_type": "fragment"
    }
   },
   "outputs": [
    {
     "name": "stdout",
     "output_type": "stream",
     "text": [
      "eberhardt/moodle                         3335\n",
      "sakai-mirror/melete                      3209\n",
      "jfaris/phonegap-facebook-plugin          3201\n",
      "sakai-mirror/mneme                       2922\n",
      "wolfe-pack/wolfe                         2001\n"
     ]
    }
   ],
   "source": [
    "print_top_items(pushed_commits)"
   ]
  },
  {
   "cell_type": "markdown",
   "metadata": {
    "slideshow": {
     "slide_type": "slide"
    }
   },
   "source": [
    "# The Split-Apply-Combine Pattern\n",
    "\n",
    "## Hadley Wickham <img src=\"http://pix-media.s3.amazonaws.com/blog/1001/HadleyObama.png\" width=250 align=left>\n",
    "\n",
    "[Hadley Wickham, the man who revolutionized R](http://priceonomics.com/hadley-wickham-the-man-who-revolutionized-r/)\n",
    "\n",
    "*If you don’t spend much of your time coding in the open-source statistical programming language R, \n",
    "his name is likely not familiar to you -- but the statistician Hadley Wickham is, \n",
    "in his own words, “nerd famous.” The kind of famous where people at statistics conferences \n",
    "line up for selfies, ask him for autographs, and are generally in awe of him. "
   ]
  },
  {
   "cell_type": "code",
   "execution_count": 8,
   "metadata": {
    "collapsed": false,
    "slideshow": {
     "slide_type": "fragment"
    }
   },
   "outputs": [
    {
     "data": {
      "text/html": [
       "<iframe src=\"http://www.jstatsoft.org/v40/i01\" width=800 height=400></iframe>"
      ],
      "text/plain": [
       "<IPython.core.display.HTML object>"
      ]
     },
     "execution_count": 8,
     "metadata": {},
     "output_type": "execute_result"
    }
   ],
   "source": [
    "from IPython.display import HTML\n",
    "HTML('<iframe src=\"http://www.jstatsoft.org/v40/i01\" width=800 height=400></iframe>')"
   ]
  },
  {
   "cell_type": "markdown",
   "metadata": {
    "slideshow": {
     "slide_type": "subslide"
    }
   },
   "source": [
    "<img src=\"http://i.imgur.com/CoJHnAF.jpg\">\n",
    "\n",
    "  * StackOverflow tag: http://stackoverflow.com/tags/split-apply-combine/info\n",
    "  * Pandas documentation: http://pandas.pydata.org/pandas-docs/stable/groupby.html\n",
    "  * PyTools documentation: http://toolz.readthedocs.org/en/latest/streaming-analytics.html#split-apply-combine-with-groupby-and-reduceby\n",
    "  * Blaze documentation: http://blaze.pydata.org/en/stable/split-apply-combine.html\n",
    "  * R plyr: https://cran.r-project.org/web/packages/plyr/index.html\n",
    "  * Julia documentation: https://dataframesjl.readthedocs.org/en/latest/split_apply_combine.html"
   ]
  },
  {
   "cell_type": "markdown",
   "metadata": {
    "slideshow": {
     "slide_type": "subslide"
    }
   },
   "source": [
    "## The Basic Pattern\n",
    "\n",
    " 1. **Split** the data by some **grouping variable**\n",
    " 2. **Apply** some function to each group **independently**\n",
    " 3. **Combine** the data into some output dataset"
   ]
  },
  {
   "cell_type": "markdown",
   "metadata": {
    "slideshow": {
     "slide_type": "subslide"
    }
   },
   "source": [
    "### Example 2 - revisited"
   ]
  },
  {
   "cell_type": "code",
   "execution_count": 9,
   "metadata": {
    "collapsed": false,
    "slideshow": {
     "slide_type": "fragment"
    }
   },
   "outputs": [
    {
     "name": "stdout",
     "output_type": "stream",
     "text": [
      "eberhardt/moodle                         3335\n",
      "sakai-mirror/melete                      3209\n",
      "jfaris/phonegap-facebook-plugin          3201\n",
      "sakai-mirror/mneme                       2922\n",
      "wolfe-pack/wolfe                         2001\n"
     ]
    }
   ],
   "source": [
    "pushed_commits = {}\n",
    "for event in events:\n",
    "    if event['type']==\"PushEvent\":\n",
    "        repo = event['repo']['name']\n",
    "        commits = event['payload']['size']\n",
    "        pushed_commits[repo] = pushed_commits.get(repo, 0) + commits \n",
    "print_top_items(pushed_commits)"
   ]
  },
  {
   "cell_type": "markdown",
   "metadata": {
    "collapsed": true,
    "slideshow": {
     "slide_type": "fragment"
    }
   },
   "source": [
    "This\n",
    "\n",
    "  * **splits** the dataset by *repository*\n",
    "  * **sums** the commits for each group\n",
    "  * **combines** the groups and their sums into a dictionary"
   ]
  },
  {
   "cell_type": "markdown",
   "metadata": {
    "slideshow": {
     "slide_type": "subslide"
    }
   },
   "source": [
    "### The Point of Learning Patterns\n",
    "\n",
    "From Cosma Shalizi's [Statistical Computing](http://www.stat.cmu.edu/~cshalizi/statcomp/13/lectures/12/lecture-12.pdf) course:\n",
    "  \n",
    "  * Distinguish between **what** you want to do and **how you want to do it**.\n",
    "  * Focusing on **what** brings clarity to intentions.\n",
    "  * **How** also matters, but can obscure the high level problem.\n",
    " \n",
    " Learn the pattern, recognize the pattern, love the pattern!\n",
    " \n",
    " Re-use *good* solutions!"
   ]
  },
  {
   "cell_type": "markdown",
   "metadata": {
    "slideshow": {
     "slide_type": "subslide"
    }
   },
   "source": [
    "### Iteration Considered Unhelpful\n",
    "\n",
    "Could always do the same thing with `for` loops, but those are\n",
    "  \n",
    "  * *verbose* - lots of \"how\" obscures the \"what\"\n",
    "  * painful/error-prone bookkeeping (indices, placeholders, ...)\n",
    "  * clumsy - hard to parallelize"
   ]
  },
  {
   "cell_type": "markdown",
   "metadata": {
    "slideshow": {
     "slide_type": "slide"
    }
   },
   "source": [
    "# Pandas - Python Data Analysis Library\n",
    "\n",
    "<p><a href=\"http://pandas.pydata.org/\"><img src=\"http://pandas.pydata.org/_static/pandas_logo.png\" align=right width=400></a></p>\n",
    "\n",
    "  * Provides high-performance, easy-to-use data structures and data analysis tools.\n",
    "  * Provides core data structure **DataFrame**"
   ]
  },
  {
   "cell_type": "markdown",
   "metadata": {
    "slideshow": {
     "slide_type": "fragment"
    }
   },
   "source": [
    "<img src=\"http://i.imgur.com/6b2AF7e.jpg\" width=300>"
   ]
  },
  {
   "cell_type": "markdown",
   "metadata": {
    "slideshow": {
     "slide_type": "subslide"
    }
   },
   "source": [
    "### pandas.DataFrame\n",
    "\n",
    "  * Basically in-memory database tables\n",
    "  * Tabular data that allows for columns of different dtypes\n",
    "  * Labeled rows and columns (index)\n",
    "  * Hierarchical indexing allows for representing Panel data"
   ]
  },
  {
   "cell_type": "code",
   "execution_count": 10,
   "metadata": {
    "collapsed": false,
    "slideshow": {
     "slide_type": "fragment"
    }
   },
   "outputs": [
    {
     "data": {
      "text/html": [
       "<div>\n",
       "<table border=\"1\" class=\"dataframe\">\n",
       "  <thead>\n",
       "    <tr style=\"text-align: right;\">\n",
       "      <th></th>\n",
       "      <th>type</th>\n",
       "      <th>user</th>\n",
       "      <th>repo</th>\n",
       "      <th>created_at</th>\n",
       "      <th>commits</th>\n",
       "    </tr>\n",
       "  </thead>\n",
       "  <tbody>\n",
       "    <tr>\n",
       "      <th>0</th>\n",
       "      <td>CreateEvent</td>\n",
       "      <td>birdage</td>\n",
       "      <td>birdage/ooi-ui</td>\n",
       "      <td>2015-01-29 16:00:00+00:00</td>\n",
       "      <td>NaN</td>\n",
       "    </tr>\n",
       "    <tr>\n",
       "      <th>1</th>\n",
       "      <td>PushEvent</td>\n",
       "      <td>ArniR</td>\n",
       "      <td>ArniR/ArniR.github.io</td>\n",
       "      <td>2015-01-29 16:00:00+00:00</td>\n",
       "      <td>1</td>\n",
       "    </tr>\n",
       "    <tr>\n",
       "      <th>2</th>\n",
       "      <td>IssueCommentEvent</td>\n",
       "      <td>CrossEye</td>\n",
       "      <td>ramda/ramda</td>\n",
       "      <td>2015-01-29 16:00:00+00:00</td>\n",
       "      <td>NaN</td>\n",
       "    </tr>\n",
       "    <tr>\n",
       "      <th>3</th>\n",
       "      <td>PushEvent</td>\n",
       "      <td>yluoyu</td>\n",
       "      <td>yluoyu/demo</td>\n",
       "      <td>2015-01-29 16:00:00+00:00</td>\n",
       "      <td>1</td>\n",
       "    </tr>\n",
       "    <tr>\n",
       "      <th>4</th>\n",
       "      <td>IssueCommentEvent</td>\n",
       "      <td>EJBQ</td>\n",
       "      <td>prmr/JetUML</td>\n",
       "      <td>2015-01-29 16:00:00+00:00</td>\n",
       "      <td>NaN</td>\n",
       "    </tr>\n",
       "  </tbody>\n",
       "</table>\n",
       "</div>"
      ],
      "text/plain": [
       "                type      user                   repo  \\\n",
       "0        CreateEvent   birdage         birdage/ooi-ui   \n",
       "1          PushEvent     ArniR  ArniR/ArniR.github.io   \n",
       "2  IssueCommentEvent  CrossEye            ramda/ramda   \n",
       "3          PushEvent    yluoyu            yluoyu/demo   \n",
       "4  IssueCommentEvent      EJBQ            prmr/JetUML   \n",
       "\n",
       "                  created_at  commits  \n",
       "0  2015-01-29 16:00:00+00:00      NaN  \n",
       "1  2015-01-29 16:00:00+00:00        1  \n",
       "2  2015-01-29 16:00:00+00:00      NaN  \n",
       "3  2015-01-29 16:00:00+00:00        1  \n",
       "4  2015-01-29 16:00:00+00:00      NaN  "
      ]
     },
     "execution_count": 10,
     "metadata": {},
     "output_type": "execute_result"
    }
   ],
   "source": [
    "import numpy as np\n",
    "import pandas as pd\n",
    "df = pd.DataFrame.from_records(((e['type'], \n",
    "                                 e['actor']['login'], \n",
    "                                 e['repo']['name'], \n",
    "                                 pd.Timestamp(e['created_at']),\n",
    "                                 e['payload']['size'] if e['type']=='PushEvent' else np.nan\n",
    "                                 ) for e in events),\n",
    "                                columns=['type', 'user', 'repo', 'created_at', 'commits'])\n",
    "df.head()"
   ]
  },
  {
   "cell_type": "markdown",
   "metadata": {
    "slideshow": {
     "slide_type": "subslide"
    }
   },
   "source": [
    "### Example 1 (using Pandas) - Number of Repositories Created"
   ]
  },
  {
   "cell_type": "code",
   "execution_count": 11,
   "metadata": {
    "collapsed": false,
    "slideshow": {
     "slide_type": "fragment"
    }
   },
   "outputs": [
    {
     "data": {
      "text/html": [
       "<div>\n",
       "<table border=\"1\" class=\"dataframe\">\n",
       "  <thead>\n",
       "    <tr style=\"text-align: right;\">\n",
       "      <th></th>\n",
       "      <th>type</th>\n",
       "      <th>user</th>\n",
       "      <th>repo</th>\n",
       "      <th>created_at</th>\n",
       "      <th>commits</th>\n",
       "    </tr>\n",
       "  </thead>\n",
       "  <tbody>\n",
       "    <tr>\n",
       "      <th>0</th>\n",
       "      <td>CreateEvent</td>\n",
       "      <td>birdage</td>\n",
       "      <td>birdage/ooi-ui</td>\n",
       "      <td>2015-01-29 16:00:00+00:00</td>\n",
       "      <td>NaN</td>\n",
       "    </tr>\n",
       "    <tr>\n",
       "      <th>9</th>\n",
       "      <td>CreateEvent</td>\n",
       "      <td>filipe-maia</td>\n",
       "      <td>Lucas-Andrade/ProjectManager_FLM</td>\n",
       "      <td>2015-01-29 16:00:02+00:00</td>\n",
       "      <td>NaN</td>\n",
       "    </tr>\n",
       "    <tr>\n",
       "      <th>11</th>\n",
       "      <td>CreateEvent</td>\n",
       "      <td>filipe-maia</td>\n",
       "      <td>Lucas-Andrade/ProjectManager_FLM</td>\n",
       "      <td>2015-01-29 16:00:02+00:00</td>\n",
       "      <td>NaN</td>\n",
       "    </tr>\n",
       "    <tr>\n",
       "      <th>13</th>\n",
       "      <td>CreateEvent</td>\n",
       "      <td>frewsxcv</td>\n",
       "      <td>frewsxcv/gargoyle</td>\n",
       "      <td>2015-01-29 16:00:02+00:00</td>\n",
       "      <td>NaN</td>\n",
       "    </tr>\n",
       "    <tr>\n",
       "      <th>17</th>\n",
       "      <td>CreateEvent</td>\n",
       "      <td>schnere</td>\n",
       "      <td>bluevisiontec/GoogleShoppingApi</td>\n",
       "      <td>2015-01-29 16:00:03+00:00</td>\n",
       "      <td>NaN</td>\n",
       "    </tr>\n",
       "  </tbody>\n",
       "</table>\n",
       "</div>"
      ],
      "text/plain": [
       "           type         user                              repo  \\\n",
       "0   CreateEvent      birdage                    birdage/ooi-ui   \n",
       "9   CreateEvent  filipe-maia  Lucas-Andrade/ProjectManager_FLM   \n",
       "11  CreateEvent  filipe-maia  Lucas-Andrade/ProjectManager_FLM   \n",
       "13  CreateEvent     frewsxcv                 frewsxcv/gargoyle   \n",
       "17  CreateEvent      schnere   bluevisiontec/GoogleShoppingApi   \n",
       "\n",
       "                   created_at  commits  \n",
       "0   2015-01-29 16:00:00+00:00      NaN  \n",
       "9   2015-01-29 16:00:02+00:00      NaN  \n",
       "11  2015-01-29 16:00:02+00:00      NaN  \n",
       "13  2015-01-29 16:00:02+00:00      NaN  \n",
       "17  2015-01-29 16:00:03+00:00      NaN  "
      ]
     },
     "execution_count": 11,
     "metadata": {},
     "output_type": "execute_result"
    }
   ],
   "source": [
    "df[df.type=='CreateEvent'].head()"
   ]
  },
  {
   "cell_type": "code",
   "execution_count": 12,
   "metadata": {
    "collapsed": false,
    "slideshow": {
     "slide_type": "fragment"
    }
   },
   "outputs": [
    {
     "data": {
      "text/plain": [
       "3516"
      ]
     },
     "execution_count": 12,
     "metadata": {},
     "output_type": "execute_result"
    }
   ],
   "source": [
    "len(df[df.type=='CreateEvent'])"
   ]
  },
  {
   "cell_type": "code",
   "execution_count": 13,
   "metadata": {
    "collapsed": false,
    "slideshow": {
     "slide_type": "fragment"
    }
   },
   "outputs": [
    {
     "name": "stdout",
     "output_type": "stream",
     "text": [
      "PushEvent                                15443\n",
      "IssueCommentEvent                        3718\n",
      "CreateEvent                              3516\n",
      "WatchEvent                               2682\n",
      "PullRequestEvent                         1891\n"
     ]
    }
   ],
   "source": [
    "event_counts = df.groupby('type').repo.count()\n",
    "print_top_items(event_counts)"
   ]
  },
  {
   "cell_type": "markdown",
   "metadata": {
    "slideshow": {
     "slide_type": "subslide"
    }
   },
   "source": [
    "### Split-Apply-Combine in Pandas\n",
    "\n",
    "  * Uses **groupby** to\n",
    "      * **split** the data into groups based on some criteria\n",
    "      * **apply** a function on each group independently\n",
    "      * **combining** the results into a data structure"
   ]
  },
  {
   "cell_type": "markdown",
   "metadata": {
    "slideshow": {
     "slide_type": "fragment"
    }
   },
   "source": [
    "  * The **apply** step is usually one of\n",
    "      * **aggregate**\n",
    "      * **transform**\n",
    "      * or **filter**"
   ]
  },
  {
   "cell_type": "code",
   "execution_count": 14,
   "metadata": {
    "collapsed": false,
    "slideshow": {
     "slide_type": "fragment"
    }
   },
   "outputs": [
    {
     "data": {
      "text/html": [
       "<iframe src=\"http://pandas.pydata.org/pandas-docs/version/0.16.2/groupby.html\" width=800 height=300></iframe>"
      ],
      "text/plain": [
       "<IPython.core.display.HTML object>"
      ]
     },
     "execution_count": 14,
     "metadata": {},
     "output_type": "execute_result"
    }
   ],
   "source": [
    "HTML('<iframe src=\"http://pandas.pydata.org/pandas-docs/version/0.16.2/groupby.html\" width=800 height=300></iframe>')"
   ]
  },
  {
   "cell_type": "markdown",
   "metadata": {
    "slideshow": {
     "slide_type": "subslide"
    }
   },
   "source": [
    "### Example 2 (using Pandas) - Number of commits pushed per repository"
   ]
  },
  {
   "cell_type": "code",
   "execution_count": 15,
   "metadata": {
    "collapsed": false,
    "slideshow": {
     "slide_type": "fragment"
    }
   },
   "outputs": [
    {
     "name": "stdout",
     "output_type": "stream",
     "text": [
      "eberhardt/moodle                         3335\n",
      "sakai-mirror/melete                      3209\n",
      "jfaris/phonegap-facebook-plugin          3201\n",
      "sakai-mirror/mneme                       2922\n",
      "wolfe-pack/wolfe                         2001\n"
     ]
    }
   ],
   "source": [
    "pushed_commits = {}\n",
    "for event in events:\n",
    "    if event['type']==\"PushEvent\":\n",
    "        repo = event['repo']['name']\n",
    "        commits = event['payload']['size']\n",
    "        pushed_commits[repo] = pushed_commits.get(repo, 0) + commits \n",
    "print_top_items(pushed_commits)"
   ]
  },
  {
   "cell_type": "code",
   "execution_count": 16,
   "metadata": {
    "collapsed": false,
    "slideshow": {
     "slide_type": "fragment"
    }
   },
   "outputs": [
    {
     "data": {
      "text/plain": [
       "repo\n",
       "eberhardt/moodle                   3335\n",
       "sakai-mirror/melete                3209\n",
       "jfaris/phonegap-facebook-plugin    3201\n",
       "sakai-mirror/mneme                 2922\n",
       "wolfe-pack/wolfe                   2001\n",
       "Name: commits, dtype: float64"
      ]
     },
     "execution_count": 16,
     "metadata": {},
     "output_type": "execute_result"
    }
   ],
   "source": [
    "pushed_commits = df[df.type=='PushEvent'].groupby('repo').commits.sum()\n",
    "pushed_commits.sort(ascending=False)\n",
    "pushed_commits.head(5)"
   ]
  },
  {
   "cell_type": "markdown",
   "metadata": {
    "slideshow": {
     "slide_type": "subslide"
    }
   },
   "source": [
    "Great for interactive work:\n",
    "\n",
    "  * tab-completion!\n",
    "  * inspect data with `df.head()` & `df.tail()`\n",
    "  * quick overview of data ranges with `df.describe()`\n",
    "\n",
    "However ..."
   ]
  },
  {
   "cell_type": "markdown",
   "metadata": {
    "slideshow": {
     "slide_type": "fragment"
    }
   },
   "source": [
    "### Pandas currently only handles in-memory datasets!"
   ]
  },
  {
   "cell_type": "markdown",
   "metadata": {
    "slideshow": {
     "slide_type": "fragment"
    }
   },
   "source": [
    "### So not suitable for big data!\n",
    "\n",
    "<img src=\"img/devops_borat.jpg\">"
   ]
  },
  {
   "cell_type": "markdown",
   "metadata": {
    "slideshow": {
     "slide_type": "slide"
    }
   },
   "source": [
    "# MapReduce\n",
    "\n",
    "  * If you want to process Big Data, you need some MapReduce framework like one of the following\n",
    "<p>\n",
    "<a href=\"https://hadoop.apache.org/\"><img src=\"https://hadoop.apache.org/images/hadoop-logo.jpg\" width=200 align=left></a>\n",
    "<a href=\"http://spark.apache.org/\"><img src=\"http://spark.apache.org/images/spark-logo.png\" width=100 align=left></a>\n",
    "</p>"
   ]
  },
  {
   "cell_type": "markdown",
   "metadata": {
    "slideshow": {
     "slide_type": "fragment"
    }
   },
   "source": [
    "<img src=\"https://mitpress.mit.edu/sicp/full-text/book/cover.jpg\" align=right width=150>\n",
    "\n",
    "The key to these frameworks is adopting a **functional** [programming] mindset. In Python this means, think **iterators**!\n",
    "\n",
    "See [The Structure and Interpretation of Computer Programs](https://mitpress.mit.edu/sicp/full-text/book/book.html)\n",
    "(the \"*Wizard book*\")\n",
    "\n",
    "  * in particular [Chapter 2 Building Abstractions with Data](https://mitpress.mit.edu/sicp/full-text/book/book-Z-H-13.html#%_chap_2) \n",
    "  * and [Section 2.2.3 Sequences as Conventional Interfaces](https://mitpress.mit.edu/sicp/full-text/book/book-Z-H-15.html#%_sec_2.2.3)\n",
    "\n",
    "Luckily, the Split-Apply-Combine pattern is well suited to this!  "
   ]
  },
  {
   "cell_type": "markdown",
   "metadata": {
    "slideshow": {
     "slide_type": "subslide"
    }
   },
   "source": [
    "## Example 1 - revisited"
   ]
  },
  {
   "cell_type": "code",
   "execution_count": 17,
   "metadata": {
    "collapsed": false,
    "slideshow": {
     "slide_type": "fragment"
    }
   },
   "outputs": [
    {
     "name": "stdout",
     "output_type": "stream",
     "text": [
      "3516\n"
     ]
    }
   ],
   "source": [
    "new_repo_count = 0\n",
    "for event in events:\n",
    "    new_repo_count += 1 if event['type']==\"CreateEvent\" else 0\n",
    "print new_repo_count"
   ]
  },
  {
   "cell_type": "code",
   "execution_count": 18,
   "metadata": {
    "collapsed": false,
    "slideshow": {
     "slide_type": "fragment"
    }
   },
   "outputs": [
    {
     "data": {
      "text/plain": [
       "3516"
      ]
     },
     "execution_count": 18,
     "metadata": {},
     "output_type": "execute_result"
    }
   ],
   "source": [
    "reduce(lambda x,y: x+y, \n",
    "       map(lambda e: 1 if e['type']=='CreateEvent' else 0, \n",
    "           events))"
   ]
  },
  {
   "cell_type": "markdown",
   "metadata": {
    "slideshow": {
     "slide_type": "fragment"
    }
   },
   "source": [
    "### Example 1 - pipelined"
   ]
  },
  {
   "cell_type": "code",
   "execution_count": 19,
   "metadata": {
    "collapsed": false,
    "slideshow": {
     "slide_type": "fragment"
    }
   },
   "outputs": [
    {
     "data": {
      "text/plain": [
       "3516"
      ]
     },
     "execution_count": 19,
     "metadata": {},
     "output_type": "execute_result"
    }
   ],
   "source": [
    "from toolz.curried import pipe, map, reduce\n",
    "\n",
    "pipe(events,\n",
    "     map(lambda e: 1 if e['type']=='CreateEvent' else 0),\n",
    "     reduce(lambda x,y: x+y)\n",
    "    )"
   ]
  },
  {
   "cell_type": "markdown",
   "metadata": {
    "slideshow": {
     "slide_type": "subslide"
    }
   },
   "source": [
    "## pipelines"
   ]
  },
  {
   "cell_type": "code",
   "execution_count": 20,
   "metadata": {
    "collapsed": false,
    "slideshow": {
     "slide_type": "fragment"
    }
   },
   "outputs": [
    {
     "name": "stdout",
     "output_type": "stream",
     "text": [
      "PushEvent                                15443\n",
      "IssueCommentEvent                        3718\n",
      "CreateEvent                              3516\n",
      "WatchEvent                               2682\n",
      "PullRequestEvent                         1891\n"
     ]
    }
   ],
   "source": [
    "def datapipe(data, *transforms):\n",
    "    for transform in transforms:\n",
    "        data = transform(data)\n",
    "    return data\n",
    "\n",
    "def inc(dct, key):\n",
    "    dct[key] = dct.get(key, 0) + 1\n",
    "    return dct\n",
    "\n",
    "datapipe(events,\n",
    "     lambda es: map(lambda e: e['type'], es),\n",
    "     lambda es: reduce(inc, es, {}),\n",
    "     lambda counts: print_top_items(counts)\n",
    "    )"
   ]
  },
  {
   "cell_type": "markdown",
   "metadata": {
    "slideshow": {
     "slide_type": "subslide"
    }
   },
   "source": [
    "What about **group by** operations?\n",
    "\n",
    "There is an `itertools.groupby` function in the standard library.\n",
    "\n",
    "However\n",
    "\n",
    "  * it requires the data to be sorted,\n",
    "  * returns iterables which are shared with the original iterable.\n",
    "\n",
    "Hence I find that I usually need to consult the [documentation](https://docs.python.org/2/library/itertools.html#itertools.groupby) to use it correctly.\n",
    "\n",
    "Use the `toolz` library rather!"
   ]
  },
  {
   "cell_type": "code",
   "execution_count": 21,
   "metadata": {
    "collapsed": false,
    "slideshow": {
     "slide_type": "fragment"
    }
   },
   "outputs": [
    {
     "data": {
      "text/html": [
       "<iframe src=\"https://docs.python.org/2/library/itertools.html#itertools.groupby\" width=800 height=200></iframe>"
      ],
      "text/plain": [
       "<IPython.core.display.HTML object>"
      ]
     },
     "execution_count": 21,
     "metadata": {},
     "output_type": "execute_result"
    }
   ],
   "source": [
    "HTML('<iframe src=\"https://docs.python.org/2/library/itertools.html#itertools.groupby\" width=800 height=200></iframe>')"
   ]
  },
  {
   "cell_type": "markdown",
   "metadata": {
    "slideshow": {
     "slide_type": "slide"
    }
   },
   "source": [
    "# PyToolz"
   ]
  },
  {
   "cell_type": "code",
   "execution_count": 22,
   "metadata": {
    "collapsed": false,
    "slideshow": {
     "slide_type": "fragment"
    }
   },
   "outputs": [
    {
     "data": {
      "text/html": [
       "<iframe src=\"https://toolz.readthedocs.org/en/latest/index.html\" width=800 height=400></iframe>"
      ],
      "text/plain": [
       "<IPython.core.display.HTML object>"
      ]
     },
     "execution_count": 22,
     "metadata": {},
     "output_type": "execute_result"
    }
   ],
   "source": [
    "HTML('<iframe src=\"https://toolz.readthedocs.org/en/latest/index.html\" width=800 height=400></iframe>')"
   ]
  },
  {
   "cell_type": "markdown",
   "metadata": {
    "slideshow": {
     "slide_type": "subslide"
    }
   },
   "source": [
    "## Example 2 - revisited"
   ]
  },
  {
   "cell_type": "code",
   "execution_count": 23,
   "metadata": {
    "collapsed": false,
    "slideshow": {
     "slide_type": "fragment"
    }
   },
   "outputs": [
    {
     "name": "stdout",
     "output_type": "stream",
     "text": [
      "eberhardt/moodle                         3335\n",
      "sakai-mirror/melete                      3209\n",
      "jfaris/phonegap-facebook-plugin          3201\n",
      "sakai-mirror/mneme                       2922\n",
      "wolfe-pack/wolfe                         2001\n"
     ]
    }
   ],
   "source": [
    "pushed_commits = {}\n",
    "for event in events:\n",
    "    if event['type']==\"PushEvent\":\n",
    "        repo = event['repo']['name']\n",
    "        commits = event['payload']['size']\n",
    "        pushed_commits[repo] = pushed_commits.get(repo, 0) + commits \n",
    "print_top_items(pushed_commits)"
   ]
  },
  {
   "cell_type": "code",
   "execution_count": 24,
   "metadata": {
    "collapsed": false,
    "slideshow": {
     "slide_type": "fragment"
    }
   },
   "outputs": [
    {
     "name": "stdout",
     "output_type": "stream",
     "text": [
      "eberhardt/moodle                         3335\n",
      "sakai-mirror/melete                      3209\n",
      "jfaris/phonegap-facebook-plugin          3201\n",
      "sakai-mirror/mneme                       2922\n",
      "wolfe-pack/wolfe                         2001\n"
     ]
    }
   ],
   "source": [
    "from toolz import groupby, valmap, filter\n",
    "pushed_commits = \\\n",
    "    valmap(lambda lst: sum(map(lambda e: e['payload']['size'], lst)),\n",
    "       groupby(lambda e: e['repo']['name'],\n",
    "               filter(lambda e: e['type']=='PushEvent', \n",
    "                      events)\n",
    "              )\n",
    "      )\n",
    "print_top_items(pushed_commits)"
   ]
  },
  {
   "cell_type": "markdown",
   "metadata": {
    "slideshow": {
     "slide_type": "subslide"
    }
   },
   "source": [
    "### Example 2 - pipelined"
   ]
  },
  {
   "cell_type": "code",
   "execution_count": 25,
   "metadata": {
    "collapsed": false,
    "slideshow": {
     "slide_type": "fragment"
    }
   },
   "outputs": [
    {
     "name": "stdout",
     "output_type": "stream",
     "text": [
      "eberhardt/moodle                         3335\n",
      "sakai-mirror/melete                      3209\n",
      "jfaris/phonegap-facebook-plugin          3201\n",
      "sakai-mirror/mneme                       2922\n",
      "wolfe-pack/wolfe                         2001\n"
     ]
    }
   ],
   "source": [
    "from toolz.curried import pipe, groupby, valmap, filter, map, get, compose\n",
    "pipe(events,\n",
    "     filter(lambda e: e['type']=='PushEvent'),\n",
    "     groupby(lambda e: e['repo']['name']),\n",
    "     valmap(compose(sum, \n",
    "                    map(lambda e: e['payload']['size']))),\n",
    "     print_top_items\n",
    "     )"
   ]
  },
  {
   "cell_type": "code",
   "execution_count": 26,
   "metadata": {
    "collapsed": false,
    "slideshow": {
     "slide_type": "subslide"
    }
   },
   "outputs": [
    {
     "data": {
      "text/html": [
       "<iframe src=\"https://toolz.readthedocs.org/en/latest/streaming-analytics.html#streaming-split-apply-combine\" width=800 height=300></iframe>"
      ],
      "text/plain": [
       "<IPython.core.display.HTML object>"
      ]
     },
     "execution_count": 26,
     "metadata": {},
     "output_type": "execute_result"
    }
   ],
   "source": [
    "HTML('<iframe src=\"https://toolz.readthedocs.org/en/latest/streaming-analytics.html#streaming-split-apply-combine\" width=800 height=300></iframe>')"
   ]
  },
  {
   "cell_type": "code",
   "execution_count": 27,
   "metadata": {
    "collapsed": false,
    "slideshow": {
     "slide_type": "subslide"
    }
   },
   "outputs": [
    {
     "name": "stdout",
     "output_type": "stream",
     "text": [
      "eberhardt/moodle                         3335\n",
      "sakai-mirror/melete                      3209\n",
      "jfaris/phonegap-facebook-plugin          3201\n",
      "sakai-mirror/mneme                       2922\n",
      "wolfe-pack/wolfe                         2001\n"
     ]
    }
   ],
   "source": [
    "from toolz.curried import reduceby, filter\n",
    "pipe(events,\n",
    "     filter(lambda e: e['type']=='PushEvent'),\n",
    "     reduceby(lambda e: e['repo']['name'],\n",
    "              lambda commits, e: commits+e['payload']['size'],\n",
    "              init=0),\n",
    "     print_top_items\n",
    "     )"
   ]
  },
  {
   "cell_type": "markdown",
   "metadata": {
    "slideshow": {
     "slide_type": "slide"
    }
   },
   "source": [
    "## Out-of-core processing - toolz example"
   ]
  },
  {
   "cell_type": "code",
   "execution_count": 28,
   "metadata": {
    "collapsed": false,
    "slideshow": {
     "slide_type": "fragment"
    }
   },
   "outputs": [
    {
     "name": "stdout",
     "output_type": "stream",
     "text": [
      "744 ['C:/ARGO/talks/split-apply-combine/data/github_archive\\\\2015-01-01-0.json.gz', 'C:/ARGO/talks/split-apply-combine/data/github_archive\\\\2015-01-01-1.json.gz', 'C:/ARGO/talks/split-apply-combine/data/github_archive\\\\2015-01-01-10.json.gz']\n"
     ]
    }
   ],
   "source": [
    "import glob\n",
    "files = glob.glob('C:/ARGO/talks/split-apply-combine/data/github_archive/2015-01-*')\n",
    "print len(files), files[:3]\n",
    "N = 24  #len(files)    # 10"
   ]
  },
  {
   "cell_type": "code",
   "execution_count": 29,
   "metadata": {
    "collapsed": false,
    "slideshow": {
     "slide_type": "fragment"
    }
   },
   "outputs": [
    {
     "name": "stdout",
     "output_type": "stream",
     "text": [
      "sakai-mirror/melete                      3209\n",
      "sakai-mirror/mneme                       2922\n",
      "sakai-mirror/ambrosia                    770\n",
      "snarfed/beautifulsoup                    559\n",
      "bruschill/macvim                         417\n"
     ]
    }
   ],
   "source": [
    "def count_commits(filename):\n",
    "    import gzip\n",
    "    import json\n",
    "    from toolz.curried import pipe, filter, reduceby\n",
    "    with gzip.open(filename) as f:\n",
    "        events = [json.loads(line) for line in f]\n",
    "    return \\\n",
    "        pipe(events,\n",
    "             filter(lambda e: e['type']=='PushEvent'),\n",
    "             reduceby(lambda e: e['repo']['name'],\n",
    "                      lambda commits, e: commits+e['payload']['size'],\n",
    "                      init=0)\n",
    "             )\n",
    "print_top_items(count_commits(files[0]))"
   ]
  },
  {
   "cell_type": "code",
   "execution_count": 30,
   "metadata": {
    "collapsed": false,
    "scrolled": false,
    "slideshow": {
     "slide_type": "subslide"
    }
   },
   "outputs": [
    {
     "name": "stdout",
     "output_type": "stream",
     "text": [
      "sakai-mirror/melete                      77016\n",
      "sakai-mirror/mneme                       70128\n",
      "sakai-mirror/ambrosia                    18480\n",
      "jsonn/pkgsrc                             17629\n",
      "devhd/rulus                              9890\n",
      "Wall time: 19.2 s\n"
     ]
    }
   ],
   "source": [
    "%%time\n",
    "from toolz.curried import reduceby\n",
    "from __builtin__ import map as pmap\n",
    "repo_commits = \\\n",
    "    pipe(pmap(count_commits, files[:N]),\n",
    "         lambda lst: reduce(lambda out, dct: out + dct.items(), lst, []),\n",
    "         reduceby(lambda t: t[0], lambda s,t: s+t[1], init=0)\n",
    "         )\n",
    "print_top_items(repo_commits)"
   ]
  },
  {
   "cell_type": "code",
   "execution_count": 31,
   "metadata": {
    "collapsed": false,
    "slideshow": {
     "slide_type": "fragment"
    }
   },
   "outputs": [
    {
     "name": "stdout",
     "output_type": "stream",
     "text": [
      "sakai-mirror/melete                      77016\n",
      "sakai-mirror/mneme                       70128\n",
      "sakai-mirror/ambrosia                    18480\n",
      "jsonn/pkgsrc                             17629\n",
      "devhd/rulus                              9890\n",
      "Wall time: 6.72 s\n"
     ]
    }
   ],
   "source": [
    "%%time\n",
    "# Remember to start the ipcluster!\n",
    "# ipcluster start -n 4\n",
    "from IPython.parallel import Client\n",
    "p = Client()[:]\n",
    "pmap = p.map_sync\n",
    "repo_commits = \\\n",
    "    pipe(pmap(count_commits, files[:N]),\n",
    "         lambda lst: reduce(lambda out, dct: out + dct.items(), lst, []),\n",
    "         reduceby(lambda t: t[0], lambda s,t: s+t[1], init=0)\n",
    "         )\n",
    "print_top_items(repo_commits)"
   ]
  },
  {
   "cell_type": "markdown",
   "metadata": {
    "slideshow": {
     "slide_type": "slide"
    }
   },
   "source": [
    "# Next time\n",
    "\n",
    "## [Blaze](http://blaze.pydata.org/en/latest/) \n",
    "\n",
    "<img src=\"http://blaze.pydata.org/en/latest/_images/blaze_med.png\" width=400>\n",
    "\n",
    "\n",
    "## [Dask](http://dask.pydata.org/en/latest/)\n",
    "\n",
    "<img src=\"http://dask.pydata.org/en/latest/_images/collections-schedulers.png\">"
   ]
  },
  {
   "cell_type": "code",
   "execution_count": 32,
   "metadata": {
    "collapsed": false,
    "slideshow": {
     "slide_type": "subslide"
    }
   },
   "outputs": [
    {
     "data": {
      "text/html": [
       "<iframe src=\"http://spark.apache.org/docs/latest/api/python/pyspark.html\" width=800 height=400></iframe>"
      ],
      "text/plain": [
       "<IPython.core.display.HTML object>"
      ]
     },
     "execution_count": 32,
     "metadata": {},
     "output_type": "execute_result"
    }
   ],
   "source": [
    "HTML('<iframe src=\"http://spark.apache.org/docs/latest/api/python/pyspark.html\" width=800 height=400></iframe>')"
   ]
  },
  {
   "cell_type": "markdown",
   "metadata": {
    "slideshow": {
     "slide_type": "slide"
    }
   },
   "source": [
    "# Thank you!\n",
    "\n",
    "## If this stuff interests you, we're hiring!"
   ]
  }
 ],
 "metadata": {
  "celltoolbar": "Slideshow",
  "kernelspec": {
   "display_name": "Python 2",
   "language": "python",
   "name": "python2"
  },
  "language_info": {
   "codemirror_mode": {
    "name": "ipython",
    "version": 2
   },
   "file_extension": ".py",
   "mimetype": "text/x-python",
   "name": "python",
   "nbconvert_exporter": "python",
   "pygments_lexer": "ipython2",
   "version": "2.7.9"
  }
 },
 "nbformat": 4,
 "nbformat_minor": 0
}
