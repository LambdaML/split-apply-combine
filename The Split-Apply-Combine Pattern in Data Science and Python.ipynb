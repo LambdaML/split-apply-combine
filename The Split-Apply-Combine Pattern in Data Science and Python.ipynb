{
 "cells": [
  {
   "cell_type": "markdown",
   "metadata": {
    "slideshow": {
     "slide_type": "slide"
    }
   },
   "source": [
    "# The Split-Apply-Combine Pattern in Data Science and Python\n",
    "\n",
    "## Tobias Brandt\n",
    "\n",
    "<img src=\"img/argon_logo.png\" align=left width=200>\n",
    "\n",
    "<!-- <img src=\"http://www.argonassetmanagement.co.za/css/img/logo.png\" align=left width=200> -->"
   ]
  },
  {
   "cell_type": "markdown",
   "metadata": {
    "slideshow": {
     "slide_type": "subslide"
    }
   },
   "source": [
    "# Argon Asset Management\n",
    "\n",
    "PUT OVERVIEW SLIDE HERE"
   ]
  },
  {
   "cell_type": "markdown",
   "metadata": {
    "slideshow": {
     "slide_type": "subslide"
    }
   },
   "source": [
    "### Projected number of talk attendees\n",
    "\n",
    "  * With \"Data Science\" in title \n",
    "      * 10 +/- 5\n",
    "  * vs without \"Data Science\" in title\n",
    "      * 20 +/- 5\n",
    "  * insert xkcd style chart"
   ]
  },
  {
   "cell_type": "markdown",
   "metadata": {
    "slideshow": {
     "slide_type": "subslide"
    }
   },
   "source": [
    "### Google trends chart\n",
    "\n",
    "![\"data science\" vs \"data analysis\"](img/data_science_vs_data_analysis.png)"
   ]
  },
  {
   "cell_type": "markdown",
   "metadata": {
    "slideshow": {
     "slide_type": "subslide"
    }
   },
   "source": [
    "## Data Science\n",
    "\n",
    "According to https://en.wikipedia.org/wiki/Data_science:\n",
    "\n",
    "In November 1997, C.F. Jeff Wu gave the inaugural lecture entitled **\"Statistics = Data Science?\"**[5] for his appointment to the H. C. Carver Professorship at the University of Michigan.[6] In this lecture, he characterized statistical work as a trilogy of **data collection**, **data modeling and analysis**, and **decision making**. In his conclusion, he initiated the modern, non-computer science, usage of the term \"data science\" and advocated that statistics be renamed data science and statisticians data scientists.[5]"
   ]
  },
  {
   "cell_type": "markdown",
   "metadata": {},
   "source": [
    "## The Github Archive Dataset\n",
    "\n",
    "https://www.githubarchive.org/\n",
    "\n",
    "Open-source developers all over the world are working on millions of projects: writing code & documentation, fixing & submitting bugs, and so forth. GitHub Archive is a project to record the public GitHub timeline, archive it, and make it easily accessible for further analysis.\n",
    "\n",
    "GitHub provides 20+ event types, which range from new commits and fork events, to opening new tickets, commenting, and adding members to a project. These events are aggregated into hourly archives, which you can access with any HTTP client:\n",
    "\n",
    "  * gzipped json files\n",
    "  * yyyy-mm-dd-HH.json.gz"
   ]
  },
  {
   "cell_type": "code",
   "execution_count": 16,
   "metadata": {
    "collapsed": false,
    "slideshow": {
     "slide_type": "fragment"
    }
   },
   "outputs": [
    {
     "name": "stdout",
     "output_type": "stream",
     "text": [
      "{\n",
      "    \"payload\": {\n",
      "        \"size\": 1, \n",
      "        \"head\": \"a9b22a6d80c1e0bb49c1cf75a3c075b642c28f81\", \n",
      "        \"commits\": [\n",
      "            {\n",
      "                \"distinct\": true, \n",
      "                \"sha\": \"a9b22a6d80c1e0bb49c1cf75a3c075b642c28f81\", \n",
      "                \"message\": \"Altered BingBot.jar\\n\\nFixed issue with multiple account support\", \n",
      "                \"url\": \"https://api.github.com/repos/davidjhulse/davesbingrewardsbot/commits/a9b22a6d80c1e0bb49c1cf75a3c075b642c28f81\", \n",
      "                \"author\": {\n",
      "                    \"email\": \"david.hulse@live.com\", \n",
      "                    \"name\": \"davidjhulse\"\n",
      "                }\n",
      "            }\n",
      "        ], \n",
      "        \"distinct_size\": 1, \n",
      "        \"push_id\": 536740396, \n",
      "        \"ref\": \"refs/heads/master\", \n",
      "        \"before\": \"86ffa724b4d70fce46e760f8cc080f5ec3d7d85f\"\n",
      "    }, \n",
      "    \"created_at\": \"2015-01-01T00:00:00Z\", \n",
      "    \"actor\": {\n",
      "        \"url\": \"https://api.github.com/users/davidjhulse\", \n",
      "        \"login\": \"davidjhulse\", \n",
      "        \"avatar_url\": \"https://avatars.githubusercontent.com/u/9152315?\", \n",
      "        \"id\": 9152315, \n",
      "        \"gravatar_id\": \"\"\n",
      "    }, \n",
      "    \"id\": \"2489368070\", \n",
      "    \"repo\": {\n",
      "        \"url\": \"https://api.github.com/repos/davidjhulse/davesbingrewardsbot\", \n",
      "        \"id\": 28635890, \n",
      "        \"name\": \"davidjhulse/davesbingrewardsbot\"\n",
      "    }, \n",
      "    \"type\": \"PushEvent\", \n",
      "    \"public\": true\n",
      "}\n"
     ]
    }
   ],
   "source": [
    "import os\n",
    "import gzip\n",
    "import json\n",
    "\n",
    "directory = r'data\\github_archive'\n",
    "filename = '2015-01-01-0.json.gz'\n",
    "path = os.path.join(directory, filename)\n",
    "with gzip.open(path) as f:\n",
    "        events = [json.loads(line) for line in f]\n",
    "print json.dumps(events[0], indent=4)"
   ]
  },
  {
   "cell_type": "markdown",
   "metadata": {},
   "source": [
    "### Typical Data Science Questions\n",
    "\n",
    "  * How many Github repositories are created per hour/day/month?\n",
    "  * To which repositories are the most commits are pushed per hour/day/month?\n",
    "  * Which projects receive the most pull requests?\n",
    "  * What are the most popular languages on Github?"
   ]
  },
  {
   "cell_type": "markdown",
   "metadata": {
    "slideshow": {
     "slide_type": "subslide"
    }
   },
   "source": [
    "## Example 1 - Number of Repositories Created"
   ]
  },
  {
   "cell_type": "code",
   "execution_count": 17,
   "metadata": {
    "collapsed": false
   },
   "outputs": [
    {
     "name": "stdout",
     "output_type": "stream",
     "text": [
      "815\n"
     ]
    }
   ],
   "source": [
    "new_repo_count = 0\n",
    "for event in events:\n",
    "    if event['type']==\"CreateEvent\":\n",
    "        new_repo_count += 1\n",
    "print new_repo_count"
   ]
  },
  {
   "cell_type": "markdown",
   "metadata": {
    "slideshow": {
     "slide_type": "subslide"
    }
   },
   "source": [
    "## Example 2 - Number of commits pushed per repository"
   ]
  },
  {
   "cell_type": "code",
   "execution_count": 18,
   "metadata": {
    "collapsed": false,
    "scrolled": false,
    "slideshow": {
     "slide_type": "fragment"
    }
   },
   "outputs": [
    {
     "name": "stdout",
     "output_type": "stream",
     "text": [
      "[(u'sakai-mirror/melete', 3209), (u'sakai-mirror/mneme', 2922), (u'sakai-mirror/ambrosia', 770), (u'snarfed/beautifulsoup', 559), (u'bruschill/macvim', 417)]\n"
     ]
    }
   ],
   "source": [
    "pushed_commits = {}\n",
    "for event in events:\n",
    "    if event['type']==\"PushEvent\":\n",
    "        repo = event['repo']['name']\n",
    "        commits = event['payload']['size']\n",
    "        pushed_commits[repo] = pushed_commits.get(repo, 0) + commits \n",
    "print sorted(pushed_commits.items(), key=lambda t: t[1], reverse=True)[:5]"
   ]
  },
  {
   "cell_type": "markdown",
   "metadata": {
    "slideshow": {
     "slide_type": "slide"
    }
   },
   "source": [
    "# The Split-Apply-Combine Pattern\n",
    "\n",
    "## Hadley Wickham <img src=\"http://pix-media.s3.amazonaws.com/blog/1001/HadleyObama.png\" width=200 align=left>\n",
    "\n",
    "[Hadley Wickham, the man who revolutionized R](http://priceonomics.com/hadley-wickham-the-man-who-revolutionized-r/)\n",
    "\n",
    "*If you don’t spend much of your time coding in the open-source statistical programming language R, \n",
    "his name is likely not familiar to you -- but the statistician Hadley Wickham is, \n",
    "in his own words, “nerd famous.” The kind of famous where people at statistics conferences \n",
    "line up for selfies, ask him for autographs, and are generally in awe of him. "
   ]
  },
  {
   "cell_type": "markdown",
   "metadata": {
    "slideshow": {
     "slide_type": "slide"
    }
   },
   "source": [
    "## Why Split-Apply-Combine?\n",
    "\n",
    "  * StackOverflow tag: http://stackoverflow.com/tags/split-apply-combine/info\n",
    "  * Pandas documentation: http://pandas.pydata.org/pandas-docs/stable/groupby.html\n",
    "  * Julia documentation: https://dataframesjl.readthedocs.org/en/latest/split_apply_combine.html\n",
    "  * PyTools documentation: http://toolz.readthedocs.org/en/latest/streaming-analytics.html#split-apply-combine-with-groupby-and-reduceby\n",
    "  * Blaze documentation: http://blaze.pydata.org/en/stable/split-apply-combine.html\n",
    "  * R plyr: https://cran.r-project.org/web/packages/plyr/index.html"
   ]
  },
  {
   "cell_type": "markdown",
   "metadata": {},
   "source": [
    "### The Point of Learning Patterns\n",
    "\n",
    "From Cosma Shalizi's [Statistical Computing](http://www.stat.cmu.edu/~cshalizi/statcomp/13/lectures/12/lecture-12.pdf) course:\n",
    "  \n",
    "  * Distinguish between **what** you want to do and **how you want to do it**.\n",
    "  * Focusing on **what** brings clarity to intentions.\n",
    "  * **How** also matters, but can obscure the high level problem.\n",
    " \n",
    " Learn the pattern, recognize the pattern, love the pattern!\n",
    " \n",
    " Re-use *good* solutions!"
   ]
  },
  {
   "cell_type": "markdown",
   "metadata": {},
   "source": [
    "### Iteration Considered Unhelpful\n",
    "\n",
    "Could always do the same thing with `for` loops, but those are\n",
    "  \n",
    "  * *verbose* - lots of \"how\" obscures the \"what\"\n",
    "  * painful/error-prone bookkeeping (indices, placeholders, ...)\n",
    "  * clumsy - hard to parallelize"
   ]
  },
  {
   "cell_type": "code",
   "execution_count": 5,
   "metadata": {
    "collapsed": false,
    "slideshow": {
     "slide_type": "fragment"
    }
   },
   "outputs": [
    {
     "data": {
      "text/html": [
       "<iframe src=\"http://www.jstatsoft.org/v40/i01/paper\" width=800 height=400></iframe>"
      ],
      "text/plain": [
       "<IPython.core.display.HTML object>"
      ]
     },
     "execution_count": 5,
     "metadata": {},
     "output_type": "execute_result"
    }
   ],
   "source": [
    "from IPython.display import HTML\n",
    "HTML('<iframe src=\"http://www.jstatsoft.org/v40/i01/paper\" width=800 height=400></iframe>')"
   ]
  },
  {
   "cell_type": "markdown",
   "metadata": {
    "slideshow": {
     "slide_type": "subslide"
    }
   },
   "source": [
    "## The Basic Pattern\n",
    "\n",
    " 1. **Split** the data by some **grouping variable**\n",
    " 2. **Apply** some function to each group **independently**\n",
    " 3. **Combine** the data into some output dataset"
   ]
  },
  {
   "cell_type": "markdown",
   "metadata": {
    "slideshow": {
     "slide_type": "subslide"
    }
   },
   "source": [
    "### Example 2 - revisited"
   ]
  },
  {
   "cell_type": "code",
   "execution_count": 6,
   "metadata": {
    "collapsed": false,
    "slideshow": {
     "slide_type": "fragment"
    }
   },
   "outputs": [
    {
     "name": "stdout",
     "output_type": "stream",
     "text": [
      "[(3250, 3.98), (3223, 3.98), (3214, 3.98)]\n"
     ]
    }
   ],
   "source": [
    "track_revenues = {}\n",
    "for row in curs.execute(\"SELECT * FROM InvoiceLine;\"):\n",
    "    InvoiceLineId, InvoiceId, TrackId, UnitPrice, Quantity = row\n",
    "    invoice_revenue = UnitPrice*Quantity\n",
    "    track_revenues[TrackId] = track_revenues.get(TrackId, 0) + invoice_revenue\n",
    "    \n",
    "print sorted(track_revenues.iteritems(), key=lambda item: (item[1], item[0]), reverse=True)[:3]"
   ]
  },
  {
   "cell_type": "code",
   "execution_count": 7,
   "metadata": {
    "collapsed": true,
    "slideshow": {
     "slide_type": "fragment"
    }
   },
   "outputs": [],
   "source": [
    "def calc_revenue(row):\n",
    "    InvoiceLineId, InvoiceId, TrackId, UnitPrice, Quantity = row\n",
    "    return UnitPrice*Quantity"
   ]
  },
  {
   "cell_type": "code",
   "execution_count": 8,
   "metadata": {
    "collapsed": false,
    "slideshow": {
     "slide_type": "fragment"
    }
   },
   "outputs": [
    {
     "name": "stdout",
     "output_type": "stream",
     "text": [
      "[(3250, 3.98), (3223, 3.98), (3214, 3.98)]\n"
     ]
    }
   ],
   "source": [
    "track_revenues = {}\n",
    "for row in curs.execute(\"SELECT * FROM InvoiceLine;\"):\n",
    "    track_revenues[row[2]] = track_revenues.get(row[2], 0) + calc_revenue(row)\n",
    "    \n",
    "print sorted(track_revenues.iteritems(), key=lambda item: (item[1], item[0]), reverse=True)[:3]"
   ]
  },
  {
   "cell_type": "markdown",
   "metadata": {
    "slideshow": {
     "slide_type": "slide"
    }
   },
   "source": [
    "# Pandas - Python Data Analysis Library\n",
    "\n",
    "<p><a href=\"http://pandas.pydata.org/\"><img src=\"http://pandas.pydata.org/_static/pandas_logo.png\" align=right width=400></a></p>\n",
    "\n",
    "  * Provides high-performance, easy-to-use data structures and data analysis tools.\n",
    "  * My default tool for interactive data analysis.\n",
    "  * Provides core data structures **Series**, **DataFrame** and **Panel** (although the latter are largely obviated by MultiIndexed DataFrames)"
   ]
  },
  {
   "cell_type": "markdown",
   "metadata": {
    "slideshow": {
     "slide_type": "subslide"
    }
   },
   "source": [
    "### pandas.Series\n",
    "\n",
    "  * Basically \"labelled arrays\"\n",
    "  * Combines *dict* and *numpy.array* interfaces\n",
    "  * *numpy.array* performance"
   ]
  },
  {
   "cell_type": "code",
   "execution_count": 9,
   "metadata": {
    "collapsed": false,
    "slideshow": {
     "slide_type": "fragment"
    }
   },
   "outputs": [
    {
     "data": {
      "text/plain": [
       "apples      1\n",
       "potatoes    2\n",
       "dtype: int64"
      ]
     },
     "execution_count": 9,
     "metadata": {},
     "output_type": "execute_result"
    }
   ],
   "source": [
    "import pandas as pd\n",
    "s1 = pd.Series(dict(apples=1, potatoes=2))\n",
    "s1"
   ]
  },
  {
   "cell_type": "code",
   "execution_count": 10,
   "metadata": {
    "collapsed": false,
    "slideshow": {
     "slide_type": "fragment"
    }
   },
   "outputs": [
    {
     "name": "stdout",
     "output_type": "stream",
     "text": [
      "apples     NaN\n",
      "oranges    NaN\n",
      "potatoes     6\n",
      "dtype: float64\n"
     ]
    }
   ],
   "source": [
    "s2 = pd.Series(dict(oranges=3, potatoes=4))\n",
    "print s1+s2"
   ]
  },
  {
   "cell_type": "code",
   "execution_count": 11,
   "metadata": {
    "collapsed": false,
    "slideshow": {
     "slide_type": "fragment"
    }
   },
   "outputs": [
    {
     "name": "stdout",
     "output_type": "stream",
     "text": [
      "apples      1\n",
      "oranges     3\n",
      "potatoes    6\n",
      "dtype: float64\n"
     ]
    }
   ],
   "source": [
    "print s1.add(s2, fill_value=0)"
   ]
  },
  {
   "cell_type": "markdown",
   "metadata": {
    "slideshow": {
     "slide_type": "subslide"
    }
   },
   "source": [
    "### pandas.DataFrame\n",
    "\n",
    "  * Basically in-memory database tables\n",
    "  * Can have columns of different dtypes\n",
    "  * Indexed rows and columns\n",
    "  * Hierarchical indexing allows for representing Panel data (pandas.MultiIndex)"
   ]
  },
  {
   "cell_type": "code",
   "execution_count": 12,
   "metadata": {
    "collapsed": false,
    "slideshow": {
     "slide_type": "fragment"
    }
   },
   "outputs": [
    {
     "data": {
      "text/html": [
       "<div>\n",
       "<table border=\"1\" class=\"dataframe\">\n",
       "  <thead>\n",
       "    <tr style=\"text-align: right;\">\n",
       "      <th></th>\n",
       "      <th>s1</th>\n",
       "      <th>s2</th>\n",
       "    </tr>\n",
       "  </thead>\n",
       "  <tbody>\n",
       "    <tr>\n",
       "      <th>apples</th>\n",
       "      <td>1</td>\n",
       "      <td>NaN</td>\n",
       "    </tr>\n",
       "    <tr>\n",
       "      <th>oranges</th>\n",
       "      <td>NaN</td>\n",
       "      <td>3</td>\n",
       "    </tr>\n",
       "    <tr>\n",
       "      <th>potatoes</th>\n",
       "      <td>2</td>\n",
       "      <td>4</td>\n",
       "    </tr>\n",
       "  </tbody>\n",
       "</table>\n",
       "</div>"
      ],
      "text/plain": [
       "          s1  s2\n",
       "apples     1 NaN\n",
       "oranges  NaN   3\n",
       "potatoes   2   4"
      ]
     },
     "execution_count": 12,
     "metadata": {},
     "output_type": "execute_result"
    }
   ],
   "source": [
    "df = pd.DataFrame(dict(s1=s1, s2=s2))\n",
    "df"
   ]
  },
  {
   "cell_type": "code",
   "execution_count": 13,
   "metadata": {
    "collapsed": false,
    "slideshow": {
     "slide_type": "fragment"
    }
   },
   "outputs": [
    {
     "name": "stdout",
     "output_type": "stream",
     "text": [
      "Index([u'apples', u'oranges', u'potatoes'], dtype='object')\n",
      "Index([u's1', u's2'], dtype='object')\n"
     ]
    }
   ],
   "source": [
    "print df.index\n",
    "print df.columns"
   ]
  },
  {
   "cell_type": "markdown",
   "metadata": {
    "slideshow": {
     "slide_type": "subslide"
    }
   },
   "source": [
    "### Pandas Data Analysis"
   ]
  },
  {
   "cell_type": "code",
   "execution_count": 14,
   "metadata": {
    "collapsed": false,
    "slideshow": {
     "slide_type": "fragment"
    }
   },
   "outputs": [
    {
     "data": {
      "text/html": [
       "<div>\n",
       "<table border=\"1\" class=\"dataframe\">\n",
       "  <thead>\n",
       "    <tr style=\"text-align: right;\">\n",
       "      <th></th>\n",
       "      <th>s1</th>\n",
       "      <th>s2</th>\n",
       "    </tr>\n",
       "  </thead>\n",
       "  <tbody>\n",
       "    <tr>\n",
       "      <th>apples</th>\n",
       "      <td>1</td>\n",
       "      <td>NaN</td>\n",
       "    </tr>\n",
       "    <tr>\n",
       "      <th>oranges</th>\n",
       "      <td>NaN</td>\n",
       "      <td>3</td>\n",
       "    </tr>\n",
       "    <tr>\n",
       "      <th>potatoes</th>\n",
       "      <td>2</td>\n",
       "      <td>4</td>\n",
       "    </tr>\n",
       "  </tbody>\n",
       "</table>\n",
       "</div>"
      ],
      "text/plain": [
       "          s1  s2\n",
       "apples     1 NaN\n",
       "oranges  NaN   3\n",
       "potatoes   2   4"
      ]
     },
     "execution_count": 14,
     "metadata": {},
     "output_type": "execute_result"
    }
   ],
   "source": [
    "df"
   ]
  },
  {
   "cell_type": "code",
   "execution_count": 15,
   "metadata": {
    "collapsed": false,
    "slideshow": {
     "slide_type": "fragment"
    }
   },
   "outputs": [
    {
     "data": {
      "text/plain": [
       "s1    3\n",
       "s2    7\n",
       "dtype: float64"
      ]
     },
     "execution_count": 15,
     "metadata": {},
     "output_type": "execute_result"
    }
   ],
   "source": [
    "df.sum()"
   ]
  },
  {
   "cell_type": "code",
   "execution_count": 16,
   "metadata": {
    "collapsed": false,
    "slideshow": {
     "slide_type": "fragment"
    }
   },
   "outputs": [
    {
     "data": {
      "text/plain": [
       "apples      1\n",
       "oranges     3\n",
       "potatoes    6\n",
       "dtype: float64"
      ]
     },
     "execution_count": 16,
     "metadata": {},
     "output_type": "execute_result"
    }
   ],
   "source": [
    "df.sum(axis=1)"
   ]
  },
  {
   "cell_type": "code",
   "execution_count": 17,
   "metadata": {
    "collapsed": false,
    "slideshow": {
     "slide_type": "fragment"
    }
   },
   "outputs": [
    {
     "data": {
      "text/plain": [
       "apples    s1    1\n",
       "oranges   s2    3\n",
       "potatoes  s1    2\n",
       "          s2    4\n",
       "dtype: float64"
      ]
     },
     "execution_count": 17,
     "metadata": {},
     "output_type": "execute_result"
    }
   ],
   "source": [
    "df.stack()"
   ]
  },
  {
   "cell_type": "code",
   "execution_count": 18,
   "metadata": {
    "collapsed": false,
    "slideshow": {
     "slide_type": "fragment"
    }
   },
   "outputs": [
    {
     "name": "stdout",
     "output_type": "stream",
     "text": [
      "MultiIndex(levels=[[u'apples', u'oranges', u'potatoes'], [u's1', u's2']],\n",
      "           labels=[[0, 1, 2, 2], [0, 1, 0, 1]])\n"
     ]
    }
   ],
   "source": [
    "print df.stack().index"
   ]
  },
  {
   "cell_type": "markdown",
   "metadata": {
    "slideshow": {
     "slide_type": "subslide"
    }
   },
   "source": [
    "### Split-Apply-Combine in Pandas\n",
    "\n",
    "  * Uses **groupby** to\n",
    "      * **split** the data into groups based on some criteria\n",
    "      * **apply** a function on each group independently\n",
    "      * **combining** the results into a data structure"
   ]
  },
  {
   "cell_type": "markdown",
   "metadata": {
    "slideshow": {
     "slide_type": "fragment"
    }
   },
   "source": [
    "  * The **apply** step is usually one of\n",
    "      * **aggregate**\n",
    "      * **transform**\n",
    "      * or **filter**"
   ]
  },
  {
   "cell_type": "code",
   "execution_count": 19,
   "metadata": {
    "collapsed": false,
    "slideshow": {
     "slide_type": "fragment"
    }
   },
   "outputs": [
    {
     "data": {
      "text/html": [
       "<iframe src=\"http://pandas.pydata.org/pandas-docs/version/0.16.2/groupby.html\" width=800 height=300></iframe>"
      ],
      "text/plain": [
       "<IPython.core.display.HTML object>"
      ]
     },
     "execution_count": 19,
     "metadata": {},
     "output_type": "execute_result"
    }
   ],
   "source": [
    "HTML('<iframe src=\"http://pandas.pydata.org/pandas-docs/version/0.16.2/groupby.html\" width=800 height=300></iframe>')"
   ]
  },
  {
   "cell_type": "markdown",
   "metadata": {
    "slideshow": {
     "slide_type": "subslide"
    }
   },
   "source": [
    "### Example 2 - using Pandas"
   ]
  },
  {
   "cell_type": "code",
   "execution_count": 20,
   "metadata": {
    "collapsed": true,
    "slideshow": {
     "slide_type": "fragment"
    }
   },
   "outputs": [],
   "source": [
    "df = pd.read_sql('SELECT * FROM InvoiceLine', conn)"
   ]
  },
  {
   "cell_type": "code",
   "execution_count": 21,
   "metadata": {
    "collapsed": false,
    "slideshow": {
     "slide_type": "fragment"
    }
   },
   "outputs": [
    {
     "name": "stdout",
     "output_type": "stream",
     "text": [
      "TrackId\n",
      "3250    3.98\n",
      "3223    3.98\n",
      "3177    3.98\n",
      "Name: Revenue, dtype: float64\n"
     ]
    }
   ],
   "source": [
    "df['Revenue'] = df['UnitPrice']*df['Quantity']\n",
    "track_revenues = df.groupby('TrackId')['Revenue'].sum()\n",
    "track_revenues.sort(ascending=False)\n",
    "print track_revenues[:3]"
   ]
  },
  {
   "cell_type": "code",
   "execution_count": 22,
   "metadata": {
    "collapsed": false,
    "slideshow": {
     "slide_type": "fragment"
    }
   },
   "outputs": [
    {
     "name": "stdout",
     "output_type": "stream",
     "text": [
      "         Revenue\n",
      "TrackId         \n",
      "3250        3.98\n",
      "3223        3.98\n",
      "3214        3.98\n"
     ]
    }
   ],
   "source": [
    "print track_revenues.reset_index().sort(columns=['Revenue', 'TrackId'], ascending=False).set_index('TrackId')[:3]"
   ]
  },
  {
   "cell_type": "markdown",
   "metadata": {
    "slideshow": {
     "slide_type": "subslide"
    }
   },
   "source": [
    "Great for interactive work:\n",
    "\n",
    "  * tab-completion!\n",
    "  * `df.head()`, `df.tail()`\n",
    "  * `df.describe()`\n",
    "\n",
    "However ..."
   ]
  },
  {
   "cell_type": "markdown",
   "metadata": {
    "slideshow": {
     "slide_type": "fragment"
    }
   },
   "source": [
    "### Pandas currently only handles in-memory datasets!\n",
    "\n",
    "### Does my data look big in this? <img src=\"http://www.techmynd.com/wp-content/uploads/2009/06/bill-gates-windows.jpg\" align=right height=100>\n",
    "  <!-- <img src=\"http://www.achievement.org/achievers/gat0/large/gat0-004.jpg\"> -->"
   ]
  },
  {
   "cell_type": "markdown",
   "metadata": {
    "slideshow": {
     "slide_type": "slide"
    }
   },
   "source": [
    "# MapReduce\n",
    "\n",
    "  * If you want to process Big Data, you need some MapReduce framework like one of the following\n",
    "<p>\n",
    "<a href=\"https://hadoop.apache.org/\"><img src=\"https://hadoop.apache.org/images/hadoop-logo.jpg\" width=200 align=left></a>\n",
    "<a href=\"http://spark.apache.org/\"><img src=\"http://spark.apache.org/images/spark-logo.png\" width=100 align=left></a>\n",
    "</p>"
   ]
  },
  {
   "cell_type": "markdown",
   "metadata": {
    "slideshow": {
     "slide_type": "fragment"
    }
   },
   "source": [
    "<img src=\"https://mitpress.mit.edu/sicp/full-text/book/cover.jpg\" align=right width=150>\n",
    "\n",
    "The key to these frameworks is adopting a **functional** [programming] mindset. In Python this means, think **iterators**!\n",
    "\n",
    "See [The Structure and Interpretation of Computer Programs](https://mitpress.mit.edu/sicp/full-text/book/book.html)\n",
    "(the \"*Wizard book*\")\n",
    "\n",
    "  * in particular [Chapter 2 Building Abstractions with Data](https://mitpress.mit.edu/sicp/full-text/book/book-Z-H-13.html#%_chap_2) \n",
    "  * and [Section 2.2.3 Sequences as Conventional Interfaces](https://mitpress.mit.edu/sicp/full-text/book/book-Z-H-15.html#%_sec_2.2.3)\n",
    "\n",
    "Luckily, the Split-Apply-Combine pattern is well suited to this!  "
   ]
  },
  {
   "cell_type": "markdown",
   "metadata": {
    "slideshow": {
     "slide_type": "subslide"
    }
   },
   "source": [
    "## Example 1 - revisited"
   ]
  },
  {
   "cell_type": "code",
   "execution_count": 23,
   "metadata": {
    "collapsed": false,
    "slideshow": {
     "slide_type": "fragment"
    }
   },
   "outputs": [
    {
     "data": {
      "text/plain": [
       "2328.599999999957"
      ]
     },
     "execution_count": 23,
     "metadata": {},
     "output_type": "execute_result"
    }
   ],
   "source": [
    "total_revenue = 0\n",
    "for row in curs.execute(\"SELECT * FROM InvoiceLine;\"):\n",
    "    InvoiceLineId, InvoiceId, TrackId, UnitPrice, Quantity = row\n",
    "    total_revenue += UnitPrice*Quantity\n",
    "total_revenue"
   ]
  },
  {
   "cell_type": "code",
   "execution_count": 24,
   "metadata": {
    "collapsed": false,
    "slideshow": {
     "slide_type": "fragment"
    }
   },
   "outputs": [
    {
     "data": {
      "text/plain": [
       "2328.599999999957"
      ]
     },
     "execution_count": 24,
     "metadata": {},
     "output_type": "execute_result"
    }
   ],
   "source": [
    "reduce(lambda x,y: x+y, map(calc_revenue, curs.execute(\"SELECT * FROM InvoiceLine;\")))"
   ]
  },
  {
   "cell_type": "code",
   "execution_count": 25,
   "metadata": {
    "collapsed": false,
    "slideshow": {
     "slide_type": "fragment"
    }
   },
   "outputs": [
    {
     "data": {
      "text/plain": [
       "2328.599999999957"
      ]
     },
     "execution_count": 25,
     "metadata": {},
     "output_type": "execute_result"
    }
   ],
   "source": [
    "sum(calc_revenue(row) for row in curs.execute(\"SELECT * FROM InvoiceLine;\"))"
   ]
  },
  {
   "cell_type": "markdown",
   "metadata": {
    "slideshow": {
     "slide_type": "subslide"
    }
   },
   "source": [
    "What about **group by** operations?\n",
    "\n",
    "There is an `itertools.groupby` function in the standard library.\n",
    "\n",
    "However\n",
    "\n",
    "  * it requires the data to be sorted,\n",
    "  * returns iterables which are shared with the original iterable.\n",
    "\n",
    "Hence I find that I usually need to consult the [documentation](https://docs.python.org/2/library/itertools.html#itertools.groupby) to use it correctly.\n",
    "\n",
    "Use the `toolz` library rather!"
   ]
  },
  {
   "cell_type": "code",
   "execution_count": 26,
   "metadata": {
    "collapsed": false,
    "slideshow": {
     "slide_type": "fragment"
    }
   },
   "outputs": [
    {
     "data": {
      "text/html": [
       "<iframe src=\"https://docs.python.org/2/library/itertools.html#itertools.groupby\" width=800 height=200></iframe>"
      ],
      "text/plain": [
       "<IPython.core.display.HTML object>"
      ]
     },
     "execution_count": 26,
     "metadata": {},
     "output_type": "execute_result"
    }
   ],
   "source": [
    "HTML('<iframe src=\"https://docs.python.org/2/library/itertools.html#itertools.groupby\" width=800 height=200></iframe>')"
   ]
  },
  {
   "cell_type": "markdown",
   "metadata": {
    "slideshow": {
     "slide_type": "slide"
    }
   },
   "source": [
    "# PyToolz"
   ]
  },
  {
   "cell_type": "code",
   "execution_count": 27,
   "metadata": {
    "collapsed": false
   },
   "outputs": [
    {
     "data": {
      "text/html": [
       "<iframe src=\"https://toolz.readthedocs.org/en/latest/index.html\" width=800 height=400></iframe>"
      ],
      "text/plain": [
       "<IPython.core.display.HTML object>"
      ]
     },
     "execution_count": 27,
     "metadata": {},
     "output_type": "execute_result"
    }
   ],
   "source": [
    "HTML('<iframe src=\"https://toolz.readthedocs.org/en/latest/index.html\" width=800 height=400></iframe>')"
   ]
  },
  {
   "cell_type": "markdown",
   "metadata": {
    "slideshow": {
     "slide_type": "subslide"
    }
   },
   "source": [
    "## Example 2 - revisited"
   ]
  },
  {
   "cell_type": "code",
   "execution_count": 28,
   "metadata": {
    "collapsed": false,
    "slideshow": {
     "slide_type": "fragment"
    }
   },
   "outputs": [
    {
     "name": "stdout",
     "output_type": "stream",
     "text": [
      "[(3250, 3.98), (3223, 3.98), (3214, 3.98)]\n"
     ]
    }
   ],
   "source": [
    "track_revenues = {}\n",
    "for row in curs.execute(\"SELECT * FROM InvoiceLine;\"):\n",
    "    track_revenues[row[2]] = track_revenues.get(row[2], 0) + calc_revenue(row)\n",
    "    \n",
    "print sorted(track_revenues.iteritems(), key=lambda item: (item[1], item[0]), reverse=True)[:3]"
   ]
  },
  {
   "cell_type": "code",
   "execution_count": 29,
   "metadata": {
    "collapsed": false,
    "slideshow": {
     "slide_type": "fragment"
    }
   },
   "outputs": [
    {
     "data": {
      "text/plain": [
       "[(3250, 3.98), (3223, 3.98), (3214, 3.98)]"
      ]
     },
     "execution_count": 29,
     "metadata": {},
     "output_type": "execute_result"
    }
   ],
   "source": [
    "from toolz import groupby, valmap\n",
    "sorted(valmap(sum,\n",
    "              valmap(lambda lst: map(calc_revenue, lst),\n",
    "                     groupby(lambda row: row[2],\n",
    "                             curs.execute(\"SELECT * FROM InvoiceLine\")))\n",
    "             ).iteritems()\n",
    "       , key=lambda t: (t[1], t[0]), reverse=True)[:3]"
   ]
  },
  {
   "cell_type": "code",
   "execution_count": 30,
   "metadata": {
    "collapsed": false,
    "slideshow": {
     "slide_type": "fragment"
    }
   },
   "outputs": [
    {
     "data": {
      "text/plain": [
       "[(3250, 3.98), (3223, 3.98), (3214, 3.98)]"
      ]
     },
     "execution_count": 30,
     "metadata": {},
     "output_type": "execute_result"
    }
   ],
   "source": [
    "from toolz.curried import pipe, groupby, valmap, map, get\n",
    "pipe(curs.execute(\"SELECT * FROM InvoiceLine\"),\n",
    "     groupby(get(2)),\n",
    "     valmap(map(calc_revenue)),\n",
    "     valmap(sum),\n",
    "     lambda track_revenues: sorted(track_revenues.iteritems(), key=lambda t: (t[1], t[0]), reverse=True)[:3]\n",
    "     )"
   ]
  },
  {
   "cell_type": "code",
   "execution_count": 31,
   "metadata": {
    "collapsed": false,
    "slideshow": {
     "slide_type": "subslide"
    }
   },
   "outputs": [
    {
     "data": {
      "text/html": [
       "<iframe src=\"https://toolz.readthedocs.org/en/latest/streaming-analytics.html#streaming-split-apply-combine\" width=800 height=300></iframe>"
      ],
      "text/plain": [
       "<IPython.core.display.HTML object>"
      ]
     },
     "execution_count": 31,
     "metadata": {},
     "output_type": "execute_result"
    }
   ],
   "source": [
    "HTML('<iframe src=\"https://toolz.readthedocs.org/en/latest/streaming-analytics.html#streaming-split-apply-combine\" width=800 height=300></iframe>')"
   ]
  },
  {
   "cell_type": "code",
   "execution_count": 32,
   "metadata": {
    "collapsed": false,
    "slideshow": {
     "slide_type": "fragment"
    }
   },
   "outputs": [
    {
     "data": {
      "text/plain": [
       "[(3250, 3.98), (3223, 3.98), (3214, 3.98)]"
      ]
     },
     "execution_count": 32,
     "metadata": {},
     "output_type": "execute_result"
    }
   ],
   "source": [
    "from toolz.curried import reduceby\n",
    "pipe(curs.execute(\"SELECT * FROM InvoiceLine\"),\n",
    "     reduceby(get(2),\n",
    "              lambda track_revenue, row: track_revenue + calc_revenue(row),\n",
    "              init=0\n",
    "             ),\n",
    "     lambda track_revenues: sorted(track_revenues.iteritems(), key=lambda t: (t[1], t[0]), reverse=True)[:3]\n",
    "     )"
   ]
  },
  {
   "cell_type": "markdown",
   "metadata": {
    "slideshow": {
     "slide_type": "subslide"
    }
   },
   "source": [
    "## toolz example - multiprocessing"
   ]
  },
  {
   "cell_type": "code",
   "execution_count": 33,
   "metadata": {
    "collapsed": false,
    "slideshow": {
     "slide_type": "fragment"
    }
   },
   "outputs": [
    {
     "name": "stdout",
     "output_type": "stream",
     "text": [
      "745 ['C:/ARGO/ARGO/notebooks/articles/github_archive\\\\2015-01-01-0.json.gz', 'C:/ARGO/ARGO/notebooks/articles/github_archive\\\\2015-01-01-1.json.gz', 'C:/ARGO/ARGO/notebooks/articles/github_archive\\\\2015-01-01-10.json.gz']\n"
     ]
    }
   ],
   "source": [
    "import glob\n",
    "files = glob.glob('C:/ARGO/ARGO/notebooks/articles/github_archive/*')\n",
    "print len(files), files[:3]\n",
    "N = len(files)    # 10"
   ]
  },
  {
   "cell_type": "code",
   "execution_count": 34,
   "metadata": {
    "collapsed": false,
    "slideshow": {
     "slide_type": "fragment"
    }
   },
   "outputs": [
    {
     "name": "stdout",
     "output_type": "stream",
     "text": [
      "{u'ReleaseEvent': 24, u'PublicEvent': 2, u'PullRequestReviewCommentEvent': 85, u'ForkEvent': 213, u'MemberEvent': 16, u'PullRequestEvent': 315, u'IssueCommentEvent': 650, u'PushEvent': 4280, u'DeleteEvent': 141, u'CommitCommentEvent': 56, u'WatchEvent': 642, u'IssuesEvent': 373, u'CreateEvent': 815, u'GollumEvent': 90}\n"
     ]
    }
   ],
   "source": [
    "def count_types(filename):\n",
    "    import gzip\n",
    "    import json\n",
    "    from collections import Counter\n",
    "    try:\n",
    "        with gzip.open(filename) as f:\n",
    "            return dict(Counter(json.loads(line)['type'] for line in f))\n",
    "    except Exception, e:\n",
    "        print \"Error in {!r}: {}\".format(filename, e)\n",
    "        return {}\n",
    "print count_types(files[0])"
   ]
  },
  {
   "cell_type": "code",
   "execution_count": 35,
   "metadata": {
    "collapsed": true,
    "slideshow": {
     "slide_type": "fragment"
    }
   },
   "outputs": [],
   "source": [
    "from collections import Counter\n",
    "def update_counts(total_counts, file_counts):\n",
    "    total_counts.update(file_counts)\n",
    "    return total_counts"
   ]
  },
  {
   "cell_type": "code",
   "execution_count": 36,
   "metadata": {
    "collapsed": false,
    "slideshow": {
     "slide_type": "fragment"
    }
   },
   "outputs": [
    {
     "name": "stdout",
     "output_type": "stream",
     "text": [
      "Error in 'C:/ARGO/ARGO/notebooks/articles/github_archive\\\\2015-01-07-5.json.gz': CRC check failed 0xc9b8b241L != 0x3fdb8691L\n",
      "Error in 'C:/ARGO/ARGO/notebooks/articles/github_archive\\\\tmp': [Errno 13] Permission denied: 'C:/ARGO/ARGO/notebooks/articles/github_archive\\\\tmp'\n",
      "Counter({u'PushEvent': 7021744, u'CreateEvent': 1649671, u'IssueCommentEvent': 1321440, u'WatchEvent': 1319860, u'IssuesEvent': 692702, u'PullRequestEvent': 680308, u'ForkEvent': 490633, u'DeleteEvent': 256818, u'PullRequestReviewCommentEvent': 214188, u'GollumEvent': 150744, u'CommitCommentEvent': 96389, u'MemberEvent': 69718, u'ReleaseEvent': 44292, u'PublicEvent': 14596})\n",
      "Wall time: 17min 54s\n"
     ]
    }
   ],
   "source": [
    "%%time\n",
    "pmap = map\n",
    "print reduce(update_counts,\n",
    "             pmap(count_types, files[:N]),\n",
    "             Counter())"
   ]
  },
  {
   "cell_type": "code",
   "execution_count": 37,
   "metadata": {
    "collapsed": false,
    "slideshow": {
     "slide_type": "fragment"
    }
   },
   "outputs": [
    {
     "name": "stdout",
     "output_type": "stream",
     "text": [
      "Counter({u'PushEvent': 7021744, u'CreateEvent': 1649671, u'IssueCommentEvent': 1321440, u'WatchEvent': 1319860, u'IssuesEvent': 692702, u'PullRequestEvent': 680308, u'ForkEvent': 490633, u'DeleteEvent': 256818, u'PullRequestReviewCommentEvent': 214188, u'GollumEvent': 150744, u'CommitCommentEvent': 96389, u'MemberEvent': 69718, u'ReleaseEvent': 44292, u'PublicEvent': 14596})\n",
      "Wall time: 4min 14s\n"
     ]
    }
   ],
   "source": [
    "%%time\n",
    "from IPython.parallel import Client\n",
    "p = Client()[:]\n",
    "pmap = p.map_sync\n",
    "print reduce(update_counts,\n",
    "             pmap(count_types, files[:N]),\n",
    "             Counter())"
   ]
  },
  {
   "cell_type": "markdown",
   "metadata": {
    "slideshow": {
     "slide_type": "slide"
    }
   },
   "source": [
    "# Next time\n",
    "\n",
    "## [Blaze](http://blaze.pydata.org/en/latest/) \n",
    "\n",
    "<img src=\"http://blaze.pydata.org/en/latest/_images/blaze_med.png\" width=400>\n",
    "\n",
    "\n",
    "## [Dask](http://dask.pydata.org/en/latest/)\n",
    "\n",
    "<img src=\"http://dask.pydata.org/en/latest/_images/collections-schedulers.png\">"
   ]
  },
  {
   "cell_type": "code",
   "execution_count": 38,
   "metadata": {
    "collapsed": false,
    "slideshow": {
     "slide_type": "subslide"
    }
   },
   "outputs": [
    {
     "data": {
      "text/html": [
       "<iframe src=\"http://spark.apache.org/docs/latest/api/python/pyspark.html\" width=800 height=400></iframe>"
      ],
      "text/plain": [
       "<IPython.core.display.HTML object>"
      ]
     },
     "execution_count": 38,
     "metadata": {},
     "output_type": "execute_result"
    }
   ],
   "source": [
    "HTML('<iframe src=\"http://spark.apache.org/docs/latest/api/python/pyspark.html\" width=800 height=400></iframe>')"
   ]
  },
  {
   "cell_type": "markdown",
   "metadata": {},
   "source": [
    "# Thank you!\n",
    "\n",
    "## If this stuff interests you, let's chat!"
   ]
  }
 ],
 "metadata": {
  "celltoolbar": "Slideshow",
  "kernelspec": {
   "display_name": "Python 2",
   "language": "python",
   "name": "python2"
  },
  "language_info": {
   "codemirror_mode": {
    "name": "ipython",
    "version": 2
   },
   "file_extension": ".py",
   "mimetype": "text/x-python",
   "name": "python",
   "nbconvert_exporter": "python",
   "pygments_lexer": "ipython2",
   "version": "2.7.9"
  }
 },
 "nbformat": 4,
 "nbformat_minor": 0
}
